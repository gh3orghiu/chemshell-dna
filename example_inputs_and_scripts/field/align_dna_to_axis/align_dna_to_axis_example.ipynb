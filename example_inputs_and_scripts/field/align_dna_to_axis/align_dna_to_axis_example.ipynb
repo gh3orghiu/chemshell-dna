{
 "cells": [
  {
   "cell_type": "code",
   "execution_count": 1,
   "metadata": {},
   "outputs": [
    {
     "name": "stderr",
     "output_type": "stream",
     "text": [
      "/Users/alex/anaconda3/lib/python3.6/site-packages/Bio/KDTree/__init__.py:27: BiopythonDeprecationWarning: Bio.KDTree has been deprecated, and we intend to remove it in a future release of Biopython. Please use Bio.PDB.kdtrees instead, which is functionally very similar.\n",
      "  BiopythonDeprecationWarning,\n",
      "/Users/alex/anaconda3/lib/python3.6/site-packages/MDAnalysis/due.py:88: UserWarning: No module named 'duecredit'\n",
      "  warnings.warn(str(err))\n"
     ]
    }
   ],
   "source": [
    "import MDAnalysis as mda\n",
    "from MDAnalysis.analysis.align import rotation_matrix\n",
    "import numpy as np\n",
    "import glob as glob\n",
    "import os as os\n",
    "\n",
    "# A script to align a DNA base pair to the XY and place and translate that base pair to the origin.\n",
    "# Written with help of Mateusz Bieniek"
   ]
  },
  {
   "cell_type": "code",
   "execution_count": 2,
   "metadata": {},
   "outputs": [],
   "source": [
    "def angle(p1, p2):\n",
    "    def unit_vector(vector):\n",
    "        return vector / np.linalg.norm(vector)\n",
    "    v1_u = unit_vector(p1 - p2)\n",
    "    v2_u = unit_vector([1, 0, 0])\n",
    "    return np.arccos(np.clip(np.dot(v1_u, v2_u), -1.0, 1.0))"
   ]
  },
  {
   "cell_type": "code",
   "execution_count": 3,
   "metadata": {},
   "outputs": [],
   "source": [
    "def coord_axis(origin, x_direction, third_atom):\n",
    "    def normalise(vector):\n",
    "        return vector / np.linalg.norm(vector)\n",
    "    x_dim = normalise(origin - x_direction)\n",
    "    tmp_vec = normalise(origin - third_atom)\n",
    "    # cross the vectors\n",
    "    y_dim = normalise(np.cross(x_dim, tmp_vec))\n",
    "    z_dim = normalise(np.cross(x_dim, y_dim))\n",
    "    # coordination axis (x, y, z) vectors normalised\n",
    "    return x_dim, y_dim, z_dim"
   ]
  },
  {
   "cell_type": "code",
   "execution_count": 4,
   "metadata": {},
   "outputs": [],
   "source": [
    "# Change directories if necessary for different replicas\n",
    "reac = '../../no_field/rep_101/optimised_struc/dna_r_opt.pdb'\n",
    "ts1  = '../../no_field/rep_101/optimised_struc/ts1_opt.pdb'\n",
    "prod = '../../no_field/rep_101/optimised_struc/dna_p_opt.pdb'"
   ]
  },
  {
   "cell_type": "code",
   "execution_count": 5,
   "metadata": {},
   "outputs": [],
   "source": [
    "# Define the frame with the x y z\n",
    "# Reference frame: x, y z\n",
    "frame_ref = ((1, 0, 0), (0, 1, 0), (0, 0, 1))"
   ]
  },
  {
   "cell_type": "code",
   "execution_count": 6,
   "metadata": {},
   "outputs": [
    {
     "name": "stdout",
     "output_type": "stream",
     "text": [
      "Original angle 12.560147157351029\n",
      "Corrected angle 2.163922467635587\n"
     ]
    }
   ],
   "source": [
    "# Align and orient the reac\n",
    "u = mda.Universe(reac)\n",
    "\n",
    "a1 = u.select_atoms('bynum 83')\n",
    "a2 = u.select_atoms('bynum 682')\n",
    "\n",
    "# check the angle to the X-axis in the beginning\n",
    "a = angle(a2[0].position, a1[0].position)\n",
    "print(\"Original angle\", np.rad2deg(a))\n",
    "\n",
    "# pick atoms which will be superimposed with your reference frame\n",
    "# argument: 1) origin, 2) x axis (y and z should be 0), 3) where y should be 0\n",
    "ourframe = u.select_atoms('bynum 681', 'bynum 83', 'bynum 85').positions\n",
    "normalised = coord_axis(*ourframe)\n",
    "\n",
    "# find a rotation for the system so that the selected atoms perfectly overlap with the reference frame\n",
    "R, rmsd = rotation_matrix(normalised, frame_ref)\n",
    "\n",
    "# apply the rotation to the entire system\n",
    "u.atoms.rotate(R)\n",
    "\n",
    "# check if the angle to the x-axis is smaller\n",
    "a = angle(a2[0].position, a1[0].position)\n",
    "print(\"Corrected angle\", np.rad2deg(a))\n",
    "\n",
    "# Move index 681 [H41] to origin \n",
    "u.atoms.positions[681]\n",
    "# Translate coordinates by position of H41\n",
    "translated = u.atoms.positions - u.atoms.positions[681]\n",
    "# Update the position\n",
    "u.atoms.positions = translated\n",
    "\n",
    "# Save pdb of DNA with H41 centred on origin and GC base pair (resid 3 and 22) aligned to the XZ axis\n",
    "u.atoms.write('./rep_101/a_reac/reac_o.pdb')"
   ]
  },
  {
   "cell_type": "code",
   "execution_count": 7,
   "metadata": {},
   "outputs": [
    {
     "name": "stdout",
     "output_type": "stream",
     "text": [
      "Original angle 12.527975912461418\n",
      "Corrected angle 2.8140383292902262\n"
     ]
    }
   ],
   "source": [
    "# Align and orient the ts1\n",
    "u = mda.Universe(ts1)\n",
    "\n",
    "a1 = u.select_atoms('bynum 83')\n",
    "a2 = u.select_atoms('bynum 682')\n",
    "\n",
    "# check the angle to the X-axis in the beginning\n",
    "a = angle(a2[0].position, a1[0].position)\n",
    "print(\"Original angle\", np.rad2deg(a))\n",
    "\n",
    "# pick atoms which will be superimposed with your reference frame\n",
    "# argument: 1) origin, 2) x axis (y and z should be 0), 3) where y should be 0\n",
    "ourframe = u.select_atoms('bynum 681', 'bynum 83', 'bynum 85').positions\n",
    "normalised = coord_axis(*ourframe)\n",
    "\n",
    "# find a rotation for the system so that the selected atoms perfectly overlap with the reference frame\n",
    "R, rmsd = rotation_matrix(normalised, frame_ref)\n",
    "\n",
    "# apply the rotation to the entire system\n",
    "u.atoms.rotate(R)\n",
    "\n",
    "# check if the angle to the x-axis is smaller\n",
    "a = angle(a2[0].position, a1[0].position)\n",
    "print(\"Corrected angle\", np.rad2deg(a))\n",
    "\n",
    "# Move index 681 [H41] to origin \n",
    "u.atoms.positions[681]\n",
    "# Translate coordinates by position of H41\n",
    "translated = u.atoms.positions - u.atoms.positions[681]\n",
    "# Update the position\n",
    "u.atoms.positions = translated\n",
    "\n",
    "# Save pdb of DNA with H41 centred on origin and GC base pair (resid 3 and 22) aligned to the XZ axis\n",
    "u.atoms.write('./rep_101/b_ts1/ts1_o.pdb')"
   ]
  },
  {
   "cell_type": "code",
   "execution_count": 8,
   "metadata": {},
   "outputs": [
    {
     "name": "stdout",
     "output_type": "stream",
     "text": [
      "Original angle 12.30262310731649\n",
      "Corrected angle 2.9851775733401484\n"
     ]
    }
   ],
   "source": [
    "# Align and orient the product\n",
    "u = mda.Universe(prod)\n",
    "\n",
    "a1 = u.select_atoms('bynum 83')\n",
    "a2 = u.select_atoms('bynum 682')\n",
    "\n",
    "# check the angle to the X-axis in the beginning\n",
    "a = angle(a2[0].position, a1[0].position)\n",
    "print(\"Original angle\", np.rad2deg(a))\n",
    "\n",
    "# pick atoms which will be superimposed with your reference frame\n",
    "# argument: 1) origin, 2) x axis (y and z should be 0), 3) where y should be 0\n",
    "ourframe = u.select_atoms('bynum 681', 'bynum 83', 'bynum 85').positions\n",
    "normalised = coord_axis(*ourframe)\n",
    "\n",
    "# find a rotation for the system so that the selected atoms perfectly overlap with the reference frame\n",
    "R, rmsd = rotation_matrix(normalised, frame_ref)\n",
    "\n",
    "# apply the rotation to the entire system\n",
    "u.atoms.rotate(R)\n",
    "\n",
    "# check if the angle to the x-axis is smaller\n",
    "a = angle(a2[0].position, a1[0].position)\n",
    "print(\"Corrected angle\", np.rad2deg(a))\n",
    "\n",
    "# Move index 681 [H41] to origin \n",
    "u.atoms.positions[681]\n",
    "# Translate coordinates by position of H41\n",
    "translated = u.atoms.positions - u.atoms.positions[681]\n",
    "# Update the position\n",
    "u.atoms.positions = translated\n",
    "\n",
    "# Save pdb of DNA with H41 centred on origin and GC base pair (resid 3 and 22) aligned to the XZ axis\n",
    "u.atoms.write('./rep_101/e_product/prod_o.pdb')"
   ]
  },
  {
   "cell_type": "code",
   "execution_count": null,
   "metadata": {},
   "outputs": [],
   "source": []
  }
 ],
 "metadata": {
  "kernelspec": {
   "display_name": "Python 3",
   "language": "python",
   "name": "python3"
  },
  "language_info": {
   "codemirror_mode": {
    "name": "ipython",
    "version": 3
   },
   "file_extension": ".py",
   "mimetype": "text/x-python",
   "name": "python",
   "nbconvert_exporter": "python",
   "pygments_lexer": "ipython3",
   "version": "3.6.5"
  }
 },
 "nbformat": 4,
 "nbformat_minor": 2
}
