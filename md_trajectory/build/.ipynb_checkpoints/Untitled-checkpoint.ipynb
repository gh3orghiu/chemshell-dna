{
 "cells": [
  {
   "cell_type": "code",
   "execution_count": 74,
   "metadata": {
    "collapsed": true
   },
   "outputs": [],
   "source": [
    "import numpy as np"
   ]
  },
  {
   "cell_type": "code",
   "execution_count": 75,
   "metadata": {},
   "outputs": [],
   "source": [
    "arr = np.loadtxt('tmpa')"
   ]
  },
  {
   "cell_type": "code",
   "execution_count": 5,
   "metadata": {},
   "outputs": [
    {
     "data": {
      "text/plain": [
       "array([  1.768,  72.914,   1.768,  74.896,   1.768,  87.707])"
      ]
     },
     "execution_count": 5,
     "metadata": {},
     "output_type": "execute_result"
    }
   ],
   "source": [
    "arr"
   ]
  },
  {
   "cell_type": "code",
   "execution_count": 9,
   "metadata": {},
   "outputs": [],
   "source": [
    "x = arr[1] - arr[0]"
   ]
  },
  {
   "cell_type": "code",
   "execution_count": 10,
   "metadata": {},
   "outputs": [],
   "source": [
    "y = arr[3] - arr[2]"
   ]
  },
  {
   "cell_type": "code",
   "execution_count": 11,
   "metadata": {},
   "outputs": [],
   "source": [
    "z = arr[5] - arr[4]"
   ]
  },
  {
   "cell_type": "code",
   "execution_count": 28,
   "metadata": {},
   "outputs": [
    {
     "name": "stdout",
     "output_type": "stream",
     "text": [
      "71.1460 0 0\n",
      "0 73.1280 0\n",
      "0 0 85.9390\n"
     ]
    }
   ],
   "source": [
    "print(\"%.4f\" % x, 0, 0)\n",
    "print(0, \"%.4f\" % y, 0)\n",
    "print(0, 0, \"%.4f\" % z)"
   ]
  },
  {
   "cell_type": "code",
   "execution_count": 60,
   "metadata": {},
   "outputs": [],
   "source": [
    "def build_box():\n",
    "    arr=np.loadtxt('tmpa')\n",
    "    x = arr[1] - arr[0]\n",
    "    y = arr[3] - arr[2]\n",
    "    z = arr[5] - arr[4]\n",
    "    print('cellBasisVector1',     \"%.4f\" % x, 0, 0)\n",
    "    print('cellBasisVector2',     0, \"%.4f\" % y, 0)\n",
    "    print('cellBasisVector3',     0, 0, \"%.4f\" % z)"
   ]
  },
  {
   "cell_type": "code",
   "execution_count": 65,
   "metadata": {},
   "outputs": [
    {
     "name": "stdout",
     "output_type": "stream",
     "text": [
      "cellBasisVector1 71.1460 0 0\n",
      "cellBasisVector2 0 73.1280 0\n",
      "cellBasisVector3 0 0 85.9390\n"
     ]
    }
   ],
   "source": [
    "build_box()"
   ]
  },
  {
   "cell_type": "code",
   "execution_count": 64,
   "metadata": {
    "collapsed": true
   },
   "outputs": [],
   "source": []
  },
  {
   "cell_type": "code",
   "execution_count": 80,
   "metadata": {},
   "outputs": [],
   "source": [
    "def box_centre():\n",
    "    arr=np.loadtxt('tmpa')\n",
    "    x = (arr[1] + arr[0])/2\n",
    "    y = (arr[3] - arr[2])/2\n",
    "    z = (arr[5] - arr[4])/2\n",
    "    print('cellOrigin', \"%.4f\" % x, \"%.4f\" % y, \"%.4f\" % z)"
   ]
  },
  {
   "cell_type": "code",
   "execution_count": 81,
   "metadata": {},
   "outputs": [
    {
     "name": "stdout",
     "output_type": "stream",
     "text": [
      "cellOrigin 37.3410 36.5640 42.9695\n"
     ]
    }
   ],
   "source": [
    "box_centre()"
   ]
  },
  {
   "cell_type": "code",
   "execution_count": null,
   "metadata": {
    "collapsed": true
   },
   "outputs": [],
   "source": []
  }
 ],
 "metadata": {
  "kernelspec": {
   "display_name": "Python 3",
   "language": "python",
   "name": "python3"
  },
  "language_info": {
   "codemirror_mode": {
    "name": "ipython",
    "version": 3
   },
   "file_extension": ".py",
   "mimetype": "text/x-python",
   "name": "python",
   "nbconvert_exporter": "python",
   "pygments_lexer": "ipython3",
   "version": "3.6.5"
  }
 },
 "nbformat": 4,
 "nbformat_minor": 2
}
