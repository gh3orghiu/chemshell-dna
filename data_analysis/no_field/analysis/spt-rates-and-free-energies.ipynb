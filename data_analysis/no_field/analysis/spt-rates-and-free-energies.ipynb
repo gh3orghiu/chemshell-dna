{
 "cells": [
  {
   "cell_type": "code",
   "execution_count": 1,
   "metadata": {},
   "outputs": [],
   "source": [
    "import pandas as pd\n",
    "import numpy as np\n",
    "import os\n",
    "import matplotlib.pyplot as plt\n",
    "%matplotlib inline\n",
    "import math\n",
    "import scipy as scipy\n",
    "import seaborn as sns\n",
    "import decimal\n",
    "import glob as glob\n",
    "from scipy.stats import norm\n",
    "sns.set(color_codes=True)"
   ]
  },
  {
   "cell_type": "code",
   "execution_count": 2,
   "metadata": {},
   "outputs": [],
   "source": [
    "os.chdir('/Users/alex/dna/chemshell/1bna_3_aug/opt')\n",
    "h2kcal = 627.509\n",
    "jmol2kcal = 0.000239006\n",
    "R = 8.3145 #J /K*mol"
   ]
  },
  {
   "cell_type": "code",
   "execution_count": 3,
   "metadata": {},
   "outputs": [],
   "source": [
    "def round_scientific(x):\n",
    "    y = []\n",
    "    for i in x:\n",
    "        y.append('%.3E' % decimal.Decimal(i))\n",
    "    return y"
   ]
  },
  {
   "cell_type": "code",
   "execution_count": 10,
   "metadata": {},
   "outputs": [],
   "source": [
    "def pick_set(x,exclude):\n",
    "    # Scans list x, returns a list with strings in pick\n",
    "    check = [i for i in x if any([e for e in exclude if e in i])]\n",
    "    return check\n",
    "\n",
    "\n",
    "# Include this list, add 'rep11' when possible\n",
    "dpt = ['rep_121']"
   ]
  },
  {
   "cell_type": "code",
   "execution_count": 11,
   "metadata": {},
   "outputs": [],
   "source": [
    "raw_elec_txt = sorted(glob.glob('./*_e.txt'))\n",
    "\n",
    "raw_e_reac = pick_set((pd.read_csv(raw_elec_txt[0], header=None)[0]), dpt)\n",
    "raw_e_ts1  = pick_set((pd.read_csv(raw_elec_txt[1], header=None)[0]), dpt)\n",
    "raw_e_prod = pick_set((pd.read_csv(raw_elec_txt[4], header=None)[0]), dpt)"
   ]
  },
  {
   "cell_type": "code",
   "execution_count": 12,
   "metadata": {},
   "outputs": [],
   "source": [
    "def crunch_elec(x):\n",
    "    e_list = []\n",
    "    for i in np.arange(len(x)):\n",
    "        e_list.append(float(x[i][-17:]))\n",
    "    e_list = np.array(e_list)    \n",
    "    return e_list"
   ]
  },
  {
   "cell_type": "code",
   "execution_count": 13,
   "metadata": {},
   "outputs": [],
   "source": [
    "h_e_reac = crunch_elec(raw_e_reac)\n",
    "h_e_ts1  = crunch_elec(raw_e_ts1)\n",
    "h_e_prod = crunch_elec(raw_e_prod)"
   ]
  },
  {
   "cell_type": "code",
   "execution_count": 14,
   "metadata": {},
   "outputs": [],
   "source": [
    "e_reac = (h_e_reac - h_e_reac)*h2kcal\n",
    "e_ts1  = (h_e_ts1 - h_e_reac)*h2kcal\n",
    "e_prod = (h_e_prod - h_e_reac)*h2kcal"
   ]
  },
  {
   "cell_type": "code",
   "execution_count": 15,
   "metadata": {},
   "outputs": [
    {
     "name": "stdout",
     "output_type": "stream",
     "text": [
      "\\begin{tabular}{lrrr}\n",
      "\\toprule\n",
      "{} &    Reactant &         TS1 &   Product \\\\\n",
      "\\midrule\n",
      "0 & -980.171642 & -980.154563 & -980.1574 \\\\\n",
      "\\bottomrule\n",
      "\\end{tabular}\n",
      "\n"
     ]
    }
   ],
   "source": [
    "d_hartree_e = { 'Reactant':h_e_reac, 'TS1':h_e_ts1, 'Product':h_e_prod}\n",
    "\n",
    "print(pd.DataFrame(data=d_hartree_e).to_latex())"
   ]
  },
  {
   "cell_type": "code",
   "execution_count": 16,
   "metadata": {},
   "outputs": [],
   "source": [
    "raw_gibbs_f1 = sorted(glob.glob('./rep_121/rate/k1f/free_energy_barrier'))\n",
    "raw_gibbs_r1 = sorted(glob.glob('./rep_121/rate/k1r/free_energy_barrier'))\n",
    "\n",
    "raw_gibbs_f1 = pick_set(raw_gibbs_f1, dpt)\n",
    "raw_gibbs_r1 = pick_set(raw_gibbs_r1, dpt)"
   ]
  },
  {
   "cell_type": "code",
   "execution_count": 17,
   "metadata": {},
   "outputs": [],
   "source": [
    "raw_arrhenius_f1 = sorted(glob.glob('./rep_121/rate/k1f/arrhenius'))\n",
    "raw_arrhenius_r1 = sorted(glob.glob('./rep_121/rate/k1r/arrhenius'))\n",
    "\n",
    "raw_arrhenius_f1 = pick_set(raw_arrhenius_f1, dpt)\n",
    "raw_arrhenius_r1 = pick_set(raw_arrhenius_r1, dpt)"
   ]
  },
  {
   "cell_type": "code",
   "execution_count": 18,
   "metadata": {},
   "outputs": [],
   "source": [
    "def crunch_gibbs(x):\n",
    "    final_list = []\n",
    "    for i in np.arange(len(x)):\n",
    "        df = pd.read_csv(x[i], skiprows=1, header=None, delim_whitespace=True)\n",
    "        df[2] = df[1]*h2kcal\n",
    "        df.columns = ['Temp', 'H', 'kcal']\n",
    "        kcal = float(df['kcal'])\n",
    "        final_list.append(kcal)\n",
    "    final_list = np.array(final_list)      \n",
    "    return final_list"
   ]
  },
  {
   "cell_type": "code",
   "execution_count": 19,
   "metadata": {},
   "outputs": [],
   "source": [
    "gibbs_f1 = crunch_gibbs(raw_gibbs_f1)\n",
    "gibbs_r1 = crunch_gibbs(raw_gibbs_r1)"
   ]
  },
  {
   "cell_type": "code",
   "execution_count": 20,
   "metadata": {},
   "outputs": [
    {
     "data": {
      "text/plain": [
       "array([7.55936285])"
      ]
     },
     "execution_count": 20,
     "metadata": {},
     "output_type": "execute_result"
    }
   ],
   "source": [
    "gibbs_f1"
   ]
  },
  {
   "cell_type": "code",
   "execution_count": 25,
   "metadata": {},
   "outputs": [
    {
     "data": {
      "text/plain": [
       "8.26824730105666"
      ]
     },
     "execution_count": 25,
     "metadata": {},
     "output_type": "execute_result"
    }
   ],
   "source": [
    "gibbs_f1[0] - gibbs_r1[0]"
   ]
  },
  {
   "cell_type": "code",
   "execution_count": 26,
   "metadata": {},
   "outputs": [],
   "source": [
    "gibbs_ts1  = gibbs_f1\n",
    "gibbs_prod  = gibbs_ts1 - gibbs_r1"
   ]
  },
  {
   "cell_type": "code",
   "execution_count": 27,
   "metadata": {},
   "outputs": [
    {
     "data": {
      "text/plain": [
       "<matplotlib.collections.PathCollection at 0x10b22e8d0>"
      ]
     },
     "execution_count": 27,
     "metadata": {},
     "output_type": "execute_result"
    },
    {
     "data": {
      "image/png": "[encoded data removed]",
      "text/plain": [
       "<Figure size 432x288 with 1 Axes>"
      ]
     },
     "metadata": {},
     "output_type": "display_data"
    }
   ],
   "source": [
    "plt.scatter(x=[0,1,2], y=[0, gibbs_ts1.mean(), gibbs_prod.mean()])"
   ]
  },
  {
   "cell_type": "code",
   "execution_count": 28,
   "metadata": {},
   "outputs": [
    {
     "data": {
      "text/plain": [
       "<matplotlib.collections.PathCollection at 0x1a15f8cd68>"
      ]
     },
     "execution_count": 28,
     "metadata": {},
     "output_type": "execute_result"
    },
    {
     "data": {
      "image/png": "[encoded data removed]",
      "text/plain": [
       "<Figure size 432x288 with 1 Axes>"
      ]
     },
     "metadata": {},
     "output_type": "display_data"
    }
   ],
   "source": [
    "plt.scatter(x=[0,1,2], y=[0, e_ts1.mean(), e_prod.mean()])"
   ]
  },
  {
   "cell_type": "code",
   "execution_count": null,
   "metadata": {},
   "outputs": [],
   "source": []
  },
  {
   "cell_type": "code",
   "execution_count": null,
   "metadata": {},
   "outputs": [],
   "source": []
  },
  {
   "cell_type": "code",
   "execution_count": 29,
   "metadata": {},
   "outputs": [
    {
     "data": {
      "image/png": "[encoded data removed]",
      "text/plain": [
       "<Figure size 750x500 with 1 Axes>"
      ]
     },
     "metadata": {},
     "output_type": "display_data"
    }
   ],
   "source": [
    "rxn_coord1 = ['TS1', 'Product']\n",
    "\n",
    "y_pos = [ gibbs_ts1.mean(), gibbs_prod.mean()]\n",
    "#error = [ gibbs_ts1.std(), gibbs_prod.std()]\n",
    "\n",
    "y_pos_e = [ e_ts1.mean(), e_prod.mean()]\n",
    "#error_e = [ e_ts1.std(), e_prod.std()]\n",
    "\n",
    "x_pos = np.arange(len(rxn_coord1))\n",
    "\n",
    "fig, ax = plt.subplots(dpi=125)\n",
    "\n",
    "ax.bar(x_pos, y_pos, align='center', alpha=0.8, ecolor='black', capsize=10, width=0.4, label='Free Energy')\n",
    "ax.bar(x_pos+0.4, y_pos_e, align='center', alpha=0.8, ecolor='black', capsize=10, width=0.4, label='Electronic Energy')\n",
    "\n",
    "ax.set_xticks(x_pos+0.2)\n",
    "ax.set_xticklabels(rxn_coord1)\n",
    "ax.set_xlabel('Reaction Coordinate')\n",
    "\n",
    "ax.set_title('Concerted Single Proton Transfer in G:C')\n",
    "ax.set_ylabel('Relative Energy, kcal/mol')\n",
    "\n",
    "plt.legend(loc='lower right')\n",
    "plt.tight_layout()\n",
    "plt.show()"
   ]
  },
  {
   "cell_type": "code",
   "execution_count": 30,
   "metadata": {},
   "outputs": [],
   "source": [
    "def crunch_rate(x):\n",
    "    final_list = []\n",
    "    for i in np.arange(len(x)):\n",
    "        df = pd.read_csv(x[i], header=None, delim_whitespace=True, skiprows=2)\n",
    "        df = np.float((df[1])[1])\n",
    "        final_list.append(df)\n",
    "    final_list=np.array(final_list)    \n",
    "    return final_list"
   ]
  },
  {
   "cell_type": "code",
   "execution_count": 31,
   "metadata": {},
   "outputs": [],
   "source": [
    "rate_f1 = crunch_rate(raw_arrhenius_f1)\n",
    "rate_r1 = crunch_rate(raw_arrhenius_r1)"
   ]
  },
  {
   "cell_type": "code",
   "execution_count": 32,
   "metadata": {},
   "outputs": [],
   "source": [
    "f1_s = 10**np.array(rate_f1)\n",
    "r1_s = 10**np.array(rate_r1)\n",
    "\n",
    "t_gc_s = 1/f1_s\n",
    "t_gct_s = 1/r1_s"
   ]
  },
  {
   "cell_type": "code",
   "execution_count": 33,
   "metadata": {},
   "outputs": [
    {
     "data": {
      "text/html": [
       "<div>\n",
       "<style scoped>\n",
       "    .dataframe tbody tr th:only-of-type {\n",
       "        vertical-align: middle;\n",
       "    }\n",
       "\n",
       "    .dataframe tbody tr th {\n",
       "        vertical-align: top;\n",
       "    }\n",
       "\n",
       "    .dataframe thead th {\n",
       "        text-align: right;\n",
       "    }\n",
       "</style>\n",
       "<table border=\"1\" class=\"dataframe\">\n",
       "  <thead>\n",
       "    <tr style=\"text-align: right;\">\n",
       "      <th></th>\n",
       "      <th>k1f</th>\n",
       "      <th>k1r</th>\n",
       "      <th>keq</th>\n",
       "      <th>gc_t</th>\n",
       "      <th>gc_taut_t</th>\n",
       "    </tr>\n",
       "  </thead>\n",
       "  <tbody>\n",
       "    <tr>\n",
       "      <th>0</th>\n",
       "      <td>1.398126e+08</td>\n",
       "      <td>1.475152e+14</td>\n",
       "      <td>9.477841e-07</td>\n",
       "      <td>7.152433e-09</td>\n",
       "      <td>6.778963e-15</td>\n",
       "    </tr>\n",
       "  </tbody>\n",
       "</table>\n",
       "</div>"
      ],
      "text/plain": [
       "            k1f           k1r           keq          gc_t     gc_taut_t\n",
       "0  1.398126e+08  1.475152e+14  9.477841e-07  7.152433e-09  6.778963e-15"
      ]
     },
     "execution_count": 33,
     "metadata": {},
     "output_type": "execute_result"
    }
   ],
   "source": [
    "d_kinetics = { 'k1f':f1_s, 'k1r':r1_s, 'keq':f1_s/r1_s, 'gc_t':t_gc_s, 'gc_taut_t':t_gct_s }\n",
    "\n",
    "df_kinetics = pd.DataFrame(data=d_kinetics)\n",
    "df_kinetics"
   ]
  },
  {
   "cell_type": "code",
   "execution_count": 25,
   "metadata": {},
   "outputs": [],
   "source": [
    "def print_results(x, y=str):\n",
    "    return format(x[y].mean(), \"10.2E\"), format(x[y].std(),\"10.2E\"), round(x[y].std()/x[y].mean()*100, 1)"
   ]
  },
  {
   "cell_type": "code",
   "execution_count": 26,
   "metadata": {},
   "outputs": [
    {
     "data": {
      "text/plain": [
       "('       NAN', '       NAN', nan)"
      ]
     },
     "execution_count": 26,
     "metadata": {},
     "output_type": "execute_result"
    }
   ],
   "source": [
    "print_results(df_kinetics, 'k1f')"
   ]
  },
  {
   "cell_type": "code",
   "execution_count": 27,
   "metadata": {},
   "outputs": [
    {
     "data": {
      "text/plain": [
       "('       NAN', '       NAN', nan)"
      ]
     },
     "execution_count": 27,
     "metadata": {},
     "output_type": "execute_result"
    }
   ],
   "source": [
    "print_results(df_kinetics, 'k1r')"
   ]
  },
  {
   "cell_type": "code",
   "execution_count": 28,
   "metadata": {},
   "outputs": [
    {
     "data": {
      "text/plain": [
       "('       NAN', '       NAN', nan)"
      ]
     },
     "execution_count": 28,
     "metadata": {},
     "output_type": "execute_result"
    }
   ],
   "source": [
    "print_results(df_kinetics, 'keq')"
   ]
  },
  {
   "cell_type": "code",
   "execution_count": 29,
   "metadata": {},
   "outputs": [
    {
     "data": {
      "text/plain": [
       "('       NAN', '       NAN', nan)"
      ]
     },
     "execution_count": 29,
     "metadata": {},
     "output_type": "execute_result"
    }
   ],
   "source": [
    "print_results(df_kinetics, 'gc_t')"
   ]
  },
  {
   "cell_type": "code",
   "execution_count": 64,
   "metadata": {},
   "outputs": [
    {
     "data": {
      "text/plain": [
       "('  6.78E-15', '       NAN', nan)"
      ]
     },
     "execution_count": 64,
     "metadata": {},
     "output_type": "execute_result"
    }
   ],
   "source": [
    "print_results(df_kinetics, 'gc_taut_t')"
   ]
  },
  {
   "cell_type": "code",
   "execution_count": 65,
   "metadata": {},
   "outputs": [
    {
     "data": {
      "text/html": [
       "<div>\n",
       "<style scoped>\n",
       "    .dataframe tbody tr th:only-of-type {\n",
       "        vertical-align: middle;\n",
       "    }\n",
       "\n",
       "    .dataframe tbody tr th {\n",
       "        vertical-align: top;\n",
       "    }\n",
       "\n",
       "    .dataframe thead th {\n",
       "        text-align: right;\n",
       "    }\n",
       "</style>\n",
       "<table border=\"1\" class=\"dataframe\">\n",
       "  <thead>\n",
       "    <tr style=\"text-align: right;\">\n",
       "      <th></th>\n",
       "      <th>ts1</th>\n",
       "      <th>prod</th>\n",
       "    </tr>\n",
       "  </thead>\n",
       "  <tbody>\n",
       "    <tr>\n",
       "      <th>0</th>\n",
       "      <td>7.559363</td>\n",
       "      <td>8.268247</td>\n",
       "    </tr>\n",
       "  </tbody>\n",
       "</table>\n",
       "</div>"
      ],
      "text/plain": [
       "        ts1      prod\n",
       "0  7.559363  8.268247"
      ]
     },
     "execution_count": 65,
     "metadata": {},
     "output_type": "execute_result"
    }
   ],
   "source": [
    "d_thermo = { 'ts1':gibbs_ts1, 'prod':gibbs_prod }\n",
    "df_thermo = pd.DataFrame(data=d_thermo)\n",
    "df_thermo"
   ]
  },
  {
   "cell_type": "code",
   "execution_count": null,
   "metadata": {},
   "outputs": [],
   "source": []
  },
  {
   "cell_type": "code",
   "execution_count": null,
   "metadata": {},
   "outputs": [],
   "source": []
  },
  {
   "cell_type": "code",
   "execution_count": null,
   "metadata": {},
   "outputs": [],
   "source": []
  },
  {
   "cell_type": "code",
   "execution_count": null,
   "metadata": {},
   "outputs": [],
   "source": []
  },
  {
   "cell_type": "code",
   "execution_count": null,
   "metadata": {},
   "outputs": [],
   "source": []
  },
  {
   "cell_type": "code",
   "execution_count": null,
   "metadata": {},
   "outputs": [],
   "source": []
  }
 ],
 "metadata": {
  "kernelspec": {
   "display_name": "Python 3",
   "language": "python",
   "name": "python3"
  },
  "language_info": {
   "codemirror_mode": {
    "name": "ipython",
    "version": 3
   },
   "file_extension": ".py",
   "mimetype": "text/x-python",
   "name": "python",
   "nbconvert_exporter": "python",
   "pygments_lexer": "ipython3",
   "version": "3.6.5"
  }
 },
 "nbformat": 4,
 "nbformat_minor": 2
}
